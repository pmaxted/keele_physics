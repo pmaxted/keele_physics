{
 "cells": [
  {
   "cell_type": "markdown",
   "metadata": {},
   "source": [
    "### Numerical tests of ground state energy eigenfunction for the infinite square well potential\n",
    " This is an example of taking a python script and converting it to a jupyter notebook.\n",
    " \n",
    " Documentation for jupyter can be found at http://jupyter.org/index.html, including an [introduction to jupyter notebooks](https://jupyter-notebook.readthedocs.io/en/stable/examples/Notebook/What%20is%20the%20Jupyter%20Notebook.html).\n",
    " \n",
    " \n",
    "The original script (at the end of the notebook) was given to PHY-20006 students as an example on which to base their answers to a problem sheet question.\n",
    "\n",
    "This cell of the notebook is written in _markdown_ format. Double click on the cell to see the underlying rich-text markup \n",
    "language.\n",
    "\n",
    "Cells can be executed using the commands in the menu at the top of the notebook, or by using the keyboard short-cut *Shift-Enter*."
   ]
  },
  {
   "cell_type": "markdown",
   "metadata": {},
   "source": [
    "The following [\"magic\"](http://ipython.readthedocs.io/en/stable/interactive/magics.htm) handles the import commands for numpy and matplotlib."
   ]
  },
  {
   "cell_type": "code",
   "execution_count": 1,
   "metadata": {},
   "outputs": [
    {
     "name": "stdout",
     "output_type": "stream",
     "text": [
      "Populating the interactive namespace from numpy and matplotlib\n"
     ]
    }
   ],
   "source": [
    "%pylab inline "
   ]
  },
  {
   "cell_type": "markdown",
   "metadata": {},
   "source": [
    " Physical constants in SI units from Math's handbook\n"
   ]
  },
  {
   "cell_type": "code",
   "execution_count": 2,
   "metadata": {
    "collapsed": true
   },
   "outputs": [],
   "source": [
    "hbar = 1.055e-34  # Planck's constant / 2.pi\n",
    "a_0  = 5.292e-11  # Bohr radius\n",
    "m_e  = 9.109e-31  # Electron mass\n",
    "eV  =  1.602e-19  # Electron volts"
   ]
  },
  {
   "cell_type": "markdown",
   "metadata": {},
   "source": [
    "Analysing $\\psi_1$, $n=1$ ground state for a particle trapped in a region of $a$.\n",
    "\n",
    "\n",
    "The 1-D time-independent Schrodinger equation (*TISE*) is  \n",
    "\n",
    "\\begin{equation}\n",
    "\\frac{-\\hbar^2}{2m}\\frac{d^2\\psi}{dx^2} + V(x) \\psi = E \\psi\n",
    "\\end{equation}\n",
    "\n",
    "In this case we take $V(x)= 0$ in the region  $0<x<a$, in which case the ground state solution of the TISE is \n",
    "\n",
    "\\begin{equation}\n",
    " \\psi_1 = \\sqrt{\\frac{2}{a}}\\sin\\left(\\frac{\\pi x}{a}\\right)\n",
    "\\end{equation}"
   ]
  },
  {
   "cell_type": "markdown",
   "metadata": {},
   "source": [
    "### Parameters for the calculation"
   ]
  },
  {
   "cell_type": "code",
   "execution_count": 3,
   "metadata": {},
   "outputs": [
    {
     "name": "stdout",
     "output_type": "stream",
     "text": [
      "a =  4.32 a_0\n",
      "m =  2.33 m_e\n",
      "Grid size:  9999\n"
     ]
    }
   ],
   "source": [
    "# N.B. all numpy functions have were imported by the \"pylab\" magic statement at the top\n",
    "n_grid = 9999  # Do calculation on a grid of n_grid values.\n",
    "a = 4.32 * a_0  # Random value of well width a relative to Bohr radius\n",
    "m = 2.33 * m_e  # Random values of particle mass relative to electron mass\n",
    "n = 1\n",
    "print(\"a = \",a/a_0, \"a_0\")\n",
    "print(\"m = \",m/m_e, \"m_e\")\n",
    "print(\"Grid size: \",n_grid)"
   ]
  },
  {
   "cell_type": "markdown",
   "metadata": {},
   "source": [
    "### Define a function for $\\psi_1$\n",
    " Note that all numpy functions are imported by the pylab magic above, so we can use \"sqrt\" instead of \"np.sqrt\", etc.\n",
    " "
   ]
  },
  {
   "cell_type": "code",
   "execution_count": 4,
   "metadata": {
    "collapsed": true
   },
   "outputs": [],
   "source": [
    "def psi(x, a, n=1):\n",
    "  norm = sqrt(2/a) # Normalisation factor\n",
    "  v = array(norm * sin(n*pi*x/a)) \n",
    "  return v\n"
   ]
  },
  {
   "cell_type": "markdown",
   "metadata": {},
   "source": [
    "### Grid of $x$ values\n",
    "Exclude points at the boundaries where some functions may not be defined"
   ]
  },
  {
   "cell_type": "code",
   "execution_count": 5,
   "metadata": {
    "collapsed": true
   },
   "outputs": [],
   "source": [
    "grid_step = a/(n_grid+1)\n",
    "x_grid = linspace(1,n_grid,n_grid) * grid_step"
   ]
  },
  {
   "cell_type": "markdown",
   "metadata": {},
   "source": [
    "### Grid of  $\\psi_1$ values\n"
   ]
  },
  {
   "cell_type": "code",
   "execution_count": 6,
   "metadata": {
    "collapsed": true
   },
   "outputs": [],
   "source": [
    "psi_grid = psi(x_grid, a, n=n)\n"
   ]
  },
  {
   "cell_type": "markdown",
   "metadata": {},
   "source": [
    "### Plot of $\\psi_1$\n",
    "Not asked for in the original question, but very easy to do in a notebook"
   ]
  },
  {
   "cell_type": "code",
   "execution_count": 7,
   "metadata": {},
   "outputs": [
    {
     "data": {
      "text/plain": [
       "(0, 102885.90731550295)"
      ]
     },
     "execution_count": 7,
     "metadata": {},
     "output_type": "execute_result"
    },
    {
     "data": {
      "image/png": "[encoded data removed]",
      "text/plain": [
       "<matplotlib.figure.Figure at 0x10a62bcf8>"
      ]
     },
     "metadata": {},
     "output_type": "display_data"
    }
   ],
   "source": [
    "plot(x_grid/a_0,psi_grid)\n",
    "xlabel('$x/a_0$')\n",
    "ylabel('$\\psi_1$')\n",
    "xlim(0,a/a_0)\n",
    "ylim(0,1.1*max(psi_grid))"
   ]
  },
  {
   "cell_type": "markdown",
   "metadata": {},
   "source": [
    "### Test that $\\psi_1$ is normalized\n",
    "$\\psi_1$ is real so $|\\psi_1^*\\psi_1| = \\psi_1^2$.\n",
    "\n",
    " The function used to do the numerical integration is *trapz*. You can see how to use this function by opening the cell below (double-click), placing the cursor inside the between \"trapz(\" and \")\" and using the keyboard short-cut *SHIFT-TAB*."
   ]
  },
  {
   "cell_type": "code",
   "execution_count": 8,
   "metadata": {},
   "outputs": [
    {
     "name": "stdout",
     "output_type": "stream",
     "text": [
      "Normalisation test = 1.0000 (should be close to 1)\n"
     ]
    }
   ],
   "source": [
    "integrand = psi_grid**2\n",
    "test1 = trapz(integrand,x_grid)  # To see the how this function works, open t\n",
    "print('Normalisation test = {:0.4f} (should be close to 1)'.format(test1))"
   ]
  },
  {
   "cell_type": "markdown",
   "metadata": {},
   "source": [
    "### Calculate probability to observe in first quarter of the well\n"
   ]
  },
  {
   "cell_type": "code",
   "execution_count": 9,
   "metadata": {},
   "outputs": [
    {
     "name": "stdout",
     "output_type": "stream",
     "text": [
      "P(x < a/4) = 0.0907 \n",
      "Expected value of P(x < a/4) = 0.0908 \n"
     ]
    }
   ],
   "source": [
    "first_quarter = (x_grid < 0.25*a) \n",
    "test2 = np.trapz(integrand[first_quarter],x_grid[first_quarter])\n",
    "print('P(x < a/4) = {:0.4f} '.format(test2))\n",
    "# Here we can check this against the calculated value\n",
    "truth2 = 0.25 -0.5/pi \n",
    "print('Expected value of P(x < a/4) = {:0.4f} '.format(truth2))"
   ]
  },
  {
   "cell_type": "markdown",
   "metadata": {},
   "source": [
    "### Calculate expectation value for $x$, $\\langle x \\rangle$\n"
   ]
  },
  {
   "cell_type": "code",
   "execution_count": 10,
   "metadata": {},
   "outputs": [
    {
     "name": "stdout",
     "output_type": "stream",
     "text": [
      "Expectation value <x> = 2.1600 a_0 \n"
     ]
    }
   ],
   "source": [
    "integrand = psi_grid*x_grid*psi_grid\n",
    "test3 = np.trapz(integrand,x_grid)  # integral y(x)dx = trapz(y,x)\n",
    "print('Expectation value <x> = {:0.4f} a_0 '.format(test3/a_0))\n"
   ]
  },
  {
   "cell_type": "markdown",
   "metadata": {},
   "source": [
    "### Plot of $\\psi^2$\n",
    " ... so we can see if the answers above looks reasonable"
   ]
  },
  {
   "cell_type": "code",
   "execution_count": 11,
   "metadata": {},
   "outputs": [
    {
     "data": {
      "text/plain": [
       "(0, 9623190840.122057)"
      ]
     },
     "execution_count": 11,
     "metadata": {},
     "output_type": "execute_result"
    },
    {
     "data": {
      "image/png": "[encoded data removed]",
      "text/plain": [
       "<matplotlib.figure.Figure at 0x10db84160>"
      ]
     },
     "metadata": {},
     "output_type": "display_data"
    }
   ],
   "source": [
    "plot(x_grid/a_0,psi_grid**2)\n",
    "ytop = 1.1*max(psi_grid**2)\n",
    "plot(array([0.25*a/a_0,0.25*a/a_0]),array([0,ytop]))\n",
    "plot(array([test3/a_0,test3/a_0]),array([0,ytop]))\n",
    "\n",
    "xlabel('$x/a_0$')\n",
    "ylabel('$\\psi_{}^2$'.format(n))\n",
    "xlim(0,a/a_0)\n",
    "ylim(0,ytop)"
   ]
  },
  {
   "cell_type": "markdown",
   "metadata": {},
   "source": [
    "### Test time-independent Schrodinger equation and hence derive energy\n",
    "\n"
   ]
  },
  {
   "cell_type": "code",
   "execution_count": 12,
   "metadata": {
    "collapsed": true
   },
   "outputs": [],
   "source": [
    "del2psi = np.gradient(np.gradient(psi_grid,grid_step),grid_step) \n",
    "\n",
    "# Explicitly using potential V(x)=0 here so we know how to put in non-zero potentials later\n",
    "V = np.zeros(n_grid) \n",
    "\n",
    "# Left-hand side of TISE\n",
    "lhs = -hbar**2/(2*m)*del2psi + V*psi_grid\n",
    "\n",
    "# Divide LHS by u to get E\n",
    "# CAREFUL - must avoid points where psi is close to zero\n",
    "where_not_zero = (abs(psi_grid) >  1e-6 )  # List of true/false values\n",
    "E_grid = lhs[where_not_zero]/psi_grid[where_not_zero]\n"
   ]
  },
  {
   "cell_type": "markdown",
   "metadata": {},
   "source": [
    "Every point in E_grid should give the same value for E (+/- some numerical noise) but there may be a few points where the calculation is affected by numerical problems, so use the median value to get a robust estimate for the  typical value of E. Also print the mean absolute deviation to check that the energy derived is consistent for all valis values in the grid.\n"
   ]
  },
  {
   "cell_type": "code",
   "execution_count": 14,
   "metadata": {},
   "outputs": [
    {
     "name": "stdout",
     "output_type": "stream",
     "text": [
      "Numerical calculation: E = 3.0909 +/- 0.0000 eV\n",
      "Expected value: E = 3.0909 eV\n"
     ]
    }
   ],
   "source": [
    "E = np.median(E_grid)              # Take median - more robust than average\n",
    "E_err = np.median(np.abs((E_grid-E))) # Should be close to 0 for valid solution\n",
    "\n",
    "#Report results in eV\n",
    "print(\"Numerical calculation: E = {:0.4f} +/- {:0.4f} eV\".format(E/eV,E_err/eV))\n",
    "\n",
    "# Expected value of energy\n",
    "E_expected  = n**2*pi**2*hbar**2/(2*m*a**2)\n",
    "print(\"Expected value: E = {:0.4f} eV\".format(E_expected/eV))\n",
    "\n",
    "\n"
   ]
  },
  {
   "cell_type": "markdown",
   "metadata": {},
   "source": [
    "### The original script"
   ]
  },
  {
   "cell_type": "code",
   "execution_count": 15,
   "metadata": {},
   "outputs": [
    {
     "name": "stdout",
     "output_type": "stream",
     "text": [
      "\n",
      "Test of ground state for infinite square well of width a\n",
      "a =  4.35 a_0\n",
      "m =  2.32 m_e\n",
      "Grid size:  9999\n",
      "Normalisation test = 1.0000 (should be close to  1.0)\n",
      "P(x < a/4) = 0.0907 \n",
      "Expected value of P(x < a/4) = 0.0908 \n",
      "Expectation value <x> = 2.1750 a_0 \n",
      "Energy E = 3.0615 +/- 0.0000 eV\n",
      "Expected value: E = 3.0615 eV\n",
      "--\n"
     ]
    }
   ],
   "source": [
    "# Numerical tests of solutions to T.I.S.E.\n",
    "# By Pierre Maxted, Nov. 2017\n",
    "from __future__ import (print_function) # So print() works in python 2.7\n",
    "from math import sqrt, pi\n",
    "import numpy as np\n",
    "\n",
    "# Physical constants in SI units from Math's handbook\n",
    "hbar = 1.055e-34  # Planck's constant / 2.pi\n",
    "a_0  = 5.292e-11  # Bohr radius\n",
    "m_e  = 9.109e-31  # Electron mass\n",
    "eV  =  1.602e-19  # Electron volts\n",
    "\n",
    "# Ground state of infinite square well potential, 0<x<a\n",
    "def psi_1(x,a):\n",
    "  norm = sqrt(2/a) # Normalisation factor\n",
    "  v = np.array(norm * np.sin(pi*x/a))  # x is an array, so use np.sin\n",
    "  return v\n",
    "\n",
    "# Start\n",
    "n_grid = 9999  # Do calculation on a grid of n_grid values.\n",
    "a = 4.35 * a_0  # Random value of well width \"a\" relative to Bohr radius\n",
    "m = 2.32 * m_e  # Random value of particle mass relative to electron mass\n",
    "\n",
    "print(\"\\nTest of ground state for infinite square well of width a\")      \n",
    "print(\"a = \",a/a_0, \"a_0\")\n",
    "print(\"m = \",m/m_e, \"m_e\")\n",
    "print(\"Grid size: \",n_grid)\n",
    "\n",
    "# Grid of x values\n",
    "# Exclude points at the boundaries where some functions may not be defined\n",
    "grid_step = a/(n_grid+1) \n",
    "x_grid = np.linspace(1,n_grid,n_grid) * grid_step\n",
    "\n",
    "# Test that psi_1 is normalised\n",
    "# psi_1 is real so |psi_1^* psi_1| = psi_1^2\n",
    "psi_1_grid = psi_1(x_grid, a)\n",
    "integrand = psi_1_grid**2\n",
    "test1 = np.trapz(integrand,x_grid)  # integral y(x)dx = trapz(y,x)\n",
    "print('Normalisation test = {:0.4f} (should be close to  1.0)'.format(test1))\n",
    "\n",
    "# Calculate probability to observe in first quarter of the well\n",
    "first_quarter = (x_grid < 0.25*a) \n",
    "test2 = np.trapz(integrand[first_quarter],x_grid[first_quarter])\n",
    "print('P(x < a/4) = {:0.4f} '.format(test2))\n",
    "# Here we can check this against the calculated value\n",
    "truth2 = 0.25 -0.5/pi \n",
    "print('Expected value of P(x < a/4) = {:0.4f} '.format(truth2))\n",
    "\n",
    "# Test expectation value for x\n",
    "integrand = psi_1_grid*x_grid*psi_1_grid\n",
    "test3 = np.trapz(integrand,x_grid)  # integral y(x)dx = trapz(y,x)\n",
    "print('Expectation value <x> = {:0.4f} a_0 '.format(test3/a_0))\n",
    "\n",
    "# Test time-independent Schrodinger equation and hence derive energy\n",
    "# TISE:  -hbar^2/2m d^2psi/dx^2 + V(x)*psi = E*psi\n",
    "# df/dx = gradient(f,grid_step) for regular grid of f(x) values\n",
    "del2psi = np.gradient(np.gradient(psi_1_grid,grid_step),grid_step) \n",
    "\n",
    "# Potential (V(x)=0)\n",
    "V = np.zeros(n_grid) \n",
    "\n",
    "# Left-hand side of TISE\n",
    "lhs = -hbar**2/(2*m)*del2psi + V*psi_1_grid\n",
    "\n",
    "# Divide LHS by psi to get E avoiding points where psi_1 is close to zero\n",
    "where_psi_not_zero = (abs(psi_1_grid) > 1e-6)  # List of true/false values\n",
    "E_grid = lhs[where_psi_not_zero]/psi_1_grid[where_psi_not_zero]\n",
    "E = np.median(E_grid)              # Take median - more robust than average\n",
    "E_err = np.median(np.abs((E_grid-E))) # median absolute deviation\n",
    "\n",
    "# Report results in eV\n",
    "print(\"Energy E = {:0.4f} +/- {:0.4f} eV\".format(E/eV,E_err/eV))\n",
    "E_expected  = pi**2*hbar**2/(2*m*a**2)\n",
    "print(\"Expected value: E = {:0.4f} eV\".format(E_expected/eV))\n",
    "print(\"--\")\n"
   ]
  },
  {
   "cell_type": "markdown",
   "metadata": {},
   "source": [
    "&copy; Pierre Maxted, Keele University, 2017"
   ]
  }
 ],
 "metadata": {
  "kernelspec": {
   "display_name": "Python 3",
   "language": "python",
   "name": "python3"
  },
  "language_info": {
   "codemirror_mode": {
    "name": "ipython",
    "version": 3
   },
   "file_extension": ".py",
   "mimetype": "text/x-python",
   "name": "python",
   "nbconvert_exporter": "python",
   "pygments_lexer": "ipython3",
   "version": "3.6.1"
  }
 },
 "nbformat": 4,
 "nbformat_minor": 2
}
