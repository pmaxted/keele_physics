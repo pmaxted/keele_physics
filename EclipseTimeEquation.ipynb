{
 "cells": [
  {
   "cell_type": "markdown",
   "metadata": {},
   "source": [
    "Enter the times of eclipse you have measured with their cycle numbers (in the first column) here. "
   ]
  },
  {
   "cell_type": "code",
   "execution_count": 1,
   "metadata": {
    "collapsed": true
   },
   "outputs": [],
   "source": [
    "# Example values for TIC 278826996\n",
    "my_eclipse_times = \"\"\"\n",
    "1 1468.405 \n",
    "2 1487.571\n",
    "3 1506.740\n",
    "\"\"\"\n"
   ]
  },
  {
   "cell_type": "code",
   "execution_count": 14,
   "metadata": {},
   "outputs": [
    {
     "name": "stdout",
     "output_type": "stream",
     "text": [
      "Eclipses at times 1449.237 + 19.1675 x Cycle\n"
     ]
    }
   ],
   "source": [
    "import numpy as np\n",
    "from io import StringIO\n",
    "data = np.loadtxt(StringIO(my_eclipse_times))\n",
    "cycle = data[:,0]\n",
    "eclipse_time = data[:,1]\n",
    "c = np.polyfit(cycle,eclipse_time,1)\n",
    "print('Eclipses at times {:0.3f} + {:0.4f} x Cycle'.format(c[1],c[0]))"
   ]
  },
  {
   "cell_type": "code",
   "execution_count": 24,
   "metadata": {},
   "outputs": [
    {
     "data": {
      "image/png": "[encoded data removed]",
      "text/plain": [
       "<matplotlib.figure.Figure at 0x1187b12b0>"
      ]
     },
     "metadata": {
      "needs_background": "light"
     },
     "output_type": "display_data"
    }
   ],
   "source": [
    "import matplotlib.pyplot as p\n",
    "offset = eclipse_time - np.polyval(c,cycle)\n",
    "p.plot(cycle,offset,'bo')\n",
    "p.plot([cycle.min()-1,cycle.max()+1],[0,0])\n",
    "p.xlim([cycle.min()-1,cycle.max()+1])\n",
    "p.ylim(-max(abs(offset))-0.001,max(abs(offset))+0.001)\n",
    "p.xlabel('Cycle number')\n",
    "p.ylabel('Observed - Calculated time [days]')\n",
    "p.show()"
   ]
  },
  {
   "cell_type": "code",
   "execution_count": null,
   "metadata": {
    "collapsed": true
   },
   "outputs": [],
   "source": []
  }
 ],
 "metadata": {
  "kernelspec": {
   "display_name": "Python 3",
   "language": "python",
   "name": "python3"
  },
  "language_info": {
   "codemirror_mode": {
    "name": "ipython",
    "version": 3
   },
   "file_extension": ".py",
   "mimetype": "text/x-python",
   "name": "python",
   "nbconvert_exporter": "python",
   "pygments_lexer": "ipython3",
   "version": "3.6.8"
  }
 },
 "nbformat": 4,
 "nbformat_minor": 2
}
